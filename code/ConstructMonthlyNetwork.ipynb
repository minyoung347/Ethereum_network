{
 "cells": [
  {
   "cell_type": "code",
   "execution_count": 38,
   "metadata": {},
   "outputs": [],
   "source": [
    "import pandas as pd\n",
    "import numpy as np\n",
    "import networkx as nx\n",
    "from datetime import datetime, timezone\n",
    "from dateutil.relativedelta import relativedelta\n",
    "from collections import Counter, defaultdict\n",
    "\n",
    "from tqdm import tqdm"
   ]
  },
  {
   "cell_type": "code",
   "execution_count": 24,
   "metadata": {},
   "outputs": [
    {
     "name": "stderr",
     "output_type": "stream",
     "text": [
      "<ipython-input-24-121469dad2ad>:14: SettingWithCopyWarning: \n",
      "A value is trying to be set on a copy of a slice from a DataFrame.\n",
      "Try using .loc[row_indexer,col_indexer] = value instead\n",
      "\n",
      "See the caveats in the documentation: https://pandas.pydata.org/pandas-docs/stable/user_guide/indexing.html#returning-a-view-versus-a-copy\n",
      "  miner_type[\"type\"] = \"miner\"\n"
     ]
    }
   ],
   "source": [
    "# Labeling (getting type and nametag to dictionary)\n",
    "\n",
    "add_label = pd.read_csv(\"~/Project/Ethereum/dataset/addresslabel.txt\", names = [\"addID\", \"type\", \"nametag\"] , sep = \" \")\n",
    "add_label = add_label.set_index(\"addID\")\n",
    "label_dic = add_label.to_dict(\"index\")\n",
    "\n",
    "# miner and genesis list\n",
    "genesis = pd.read_csv(\"~/Project/Ethereum/dataset/genesis_labels.txt\", usecols = [0,1], names = [\"addID\", \"type\"] , sep = \" \")\n",
    "genesis = genesis.set_index(\"addID\")\n",
    "genesis_dic = genesis.to_dict(\"index\")\n",
    "\n",
    "miner = pd.read_csv(\"~/Project/Ethereum/dataset/blockminer.txt\", names = [\"blockID\", \"addID\",\"uncle\"], header=None, sep=' ')\n",
    "miner_type = miner.drop_duplicates([\"addID\"])\n",
    "miner_type[\"type\"] = \"miner\" \n",
    "miner_type = miner_type[[\"addID\", \"type\"]].set_index(\"addID\")\n",
    "miner_dic = miner_type.to_dict(\"index\")\n",
    "\n",
    "# setting multitype node\n",
    "node_label_dic = defaultdict(lambda: defaultdict(list))\n",
    "\n",
    "for node, type_dic in genesis_dic.items():\n",
    "    node_label_dic[node]['type'].append('genesis')\n",
    "for node, type_dic in miner_dic.items():\n",
    "    node_label_dic[node]['type'].append('miner')\n",
    "\n",
    "for node, type_dic in label_dic.items():\n",
    "    if type_dic['type'] not in node_label_dic[node]['type']:\n",
    "        node_label_dic[node]['type'].append(type_dic['type'])\n",
    "    node_label_dic[node]['nametag'] = type_dic['nametag']"
   ]
  },
  {
   "cell_type": "code",
   "execution_count": 27,
   "metadata": {},
   "outputs": [
    {
     "name": "stderr",
     "output_type": "stream",
     "text": [
      "<ipython-input-27-9a4be306afbc>:10: DeprecationWarning: The default dtype for empty Series will be 'object' instead of 'float64' in a future version. Specify a dtype explicitly to silence this warning.\n",
      "  timeseries_degree_centrality = pd.Series(index=date_idx)\n"
     ]
    }
   ],
   "source": [
    "# transaction=pd.read_csv(\"transaction_data.csv\")\n",
    "transaction=pd.read_csv(\"../preprocessed/transaction_data_except_txfee.csv\")\n",
    "# timestamp to datetime \n",
    "transaction[\"txdatetime\"] = transaction[\"txtime\"].map(lambda x:datetime.fromtimestamp(x, timezone.utc))\n",
    "\n",
    "# delete self transaction \n",
    "transaction = transaction[transaction['in']!=transaction['out']] # excluding self transaction "
   ]
  },
  {
   "cell_type": "code",
   "execution_count": 51,
   "metadata": {},
   "outputs": [
    {
     "name": "stderr",
     "output_type": "stream",
     "text": [
      "100%|██████████| 17/17 [00:26<00:00,  1.55s/it]\n"
     ]
    }
   ],
   "source": [
    "monthly_network = []\n",
    "date_idx = pd.date_range(start='08/01/2015', end='12/01/2016', freq='MS', tz='UTC') \n",
    "\n",
    "for time_from in tqdm(date_idx):    \n",
    "    # aggregate with the time interval\n",
    "    time_until = time_from + relativedelta(months=1)\n",
    "    tx_bytime = transaction[(transaction.txdatetime >= time_from) & (transaction.txdatetime < time_until)] \n",
    "    real_tx = tx_bytime.groupby([\"in\", \"out\"], as_index=False).agg({\"value\": np.sum})\n",
    "    real_tx = real_tx[real_tx[\"value\"] != 0]\n",
    "    real_tx[\"log_value\"] = real_tx[\"value\"].apply(lambda x: np.log10(x))\n",
    "    \n",
    "    tx_G_bytime = nx.from_pandas_edgelist(real_tx, source = \"out\", target = \"in\", edge_attr=[\"value\"], create_using=nx.DiGraph())\n",
    "\n",
    "    nx.set_node_attributes(tx_G_bytime, node_label_dic)\n",
    "\n",
    "    # save_network \n",
    "    month = time_from.strftime('%Y%m')\n",
    "    nx.write_gml(tx_G_bytime, f'/data01/storage_damini/Ethereum_network/monthly_network_{month}.gml')"
   ]
  },
  {
   "cell_type": "code",
   "execution_count": null,
   "metadata": {},
   "outputs": [],
   "source": []
  },
  {
   "cell_type": "markdown",
   "metadata": {},
   "source": [
    "### Monthly Network Analysis"
   ]
  },
  {
   "cell_type": "code",
   "execution_count": null,
   "metadata": {},
   "outputs": [],
   "source": [
    "# degree distribution \n",
    "# weighted degree distribution"
   ]
  },
  {
   "cell_type": "code",
   "execution_count": null,
   "metadata": {},
   "outputs": [],
   "source": [
    "# set one step\n",
    "import powerlaw\n",
    "import seaborn as sns\n",
    "import statsmodels.api as sm\n",
    "colors = ['r','g','b','c','m','y']\n",
    "plt.figure(figsize = (12,9))\n",
    "\n",
    "power_law_exponent=[]\n",
    "monthly_network = []\n",
    "\n",
    "\n",
    "\n",
    "distribution = tx_G_bytime.degree()\n",
    "    distribution = tx_G_bytime.degree(weight='value')\n",
    "\n",
    "    in_wdegree, out_wdegree = {}, {}\n",
    "    for node in tx_G_bytime.nodes():\n",
    "        in_wdegree[node] = 0\n",
    "        out_wdegree[node] = 0\n",
    "\n",
    "\n",
    "    for (in_, out_), value in nx.get_edge_attributes(tx_G_bytime, 'value').items():\n",
    "        in_wdegree[in_] += value\n",
    "        out_wdegree[out_] += value \n",
    "\n",
    "    for node, v in in_wdegree.items():\n",
    "        in_wdegree[node] = np.log10(v)\n",
    "    for node, v in out_wdegree.items():\n",
    "        out_wdegree[node] = np.log10(v)\n",
    "\n",
    "\n",
    "    alpha = power_law_fitting(tx_G_bytime.degree())\n",
    "    # ain, aout = power_law_fitting(tx_G_bytime.in_degree()), power_law_fitting(tx_G_bytime.out_degree())\n",
    "    gamma = power_law_fitting(distribution)\n",
    "    # gin, gout = power_law_fitting(list(in_wdegree.items())), power_law_fitting(list(out_wdegree.items()))\n",
    "    \n",
    "    alpha = power_law_fitting(tx_G_bytime.degree())\n",
    "    power_law_exponent.append([alpha])"
   ]
  }
 ],
 "metadata": {
  "kernelspec": {
   "display_name": "base",
   "language": "python",
   "name": "python3"
  },
  "language_info": {
   "codemirror_mode": {
    "name": "ipython",
    "version": 3
   },
   "file_extension": ".py",
   "mimetype": "text/x-python",
   "name": "python",
   "nbconvert_exporter": "python",
   "pygments_lexer": "ipython3",
   "version": "3.8.3"
  }
 },
 "nbformat": 4,
 "nbformat_minor": 2
}
