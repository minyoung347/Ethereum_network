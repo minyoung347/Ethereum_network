{
 "cells": [
  {
   "cell_type": "code",
   "execution_count": 1,
   "metadata": {},
   "outputs": [],
   "source": [
    "import pandas as pd\n",
    "import numpy as np\n",
    "import networkx as nx\n",
    "from datetime import datetime, timezone\n",
    "from dateutil.relativedelta import relativedelta\n",
    "from collections import Counter, defaultdict\n",
    "\n",
    "from tqdm import tqdm"
   ]
  },
  {
   "cell_type": "code",
   "execution_count": 2,
   "metadata": {},
   "outputs": [],
   "source": [
    "# Labeling (getting type and nametag to dictionary)\n",
    "\n",
    "add_label = pd.read_csv(\"~/Project/Ethereum/dataset/addresslabel.txt\", names = [\"addID\", \"type\", \"nametag\"] , sep = \" \")\n",
    "add_label = add_label.set_index(\"addID\")\n",
    "label_dic = {k: v.dropna().to_dict() for k,v in add_label.T.items()} # drop nan\n",
    "\n",
    "# miner and genesis list\n",
    "genesis = pd.read_csv(\"~/Project/Ethereum/dataset/genesis_labels.txt\", usecols = [0,1], names = [\"addID\", \"type\"] , sep = \" \")\n",
    "genesis = genesis.set_index(\"addID\")\n",
    "\n",
    "miner = pd.read_csv(\"~/Project/Ethereum/dataset/blockminer.txt\", names = [\"blockID\", \"addID\",\"uncle\"], header=None, sep=' ')\n",
    "miner = miner.drop_duplicates([\"addID\"])\n",
    "miner[\"type\"] = \"miner\" \n",
    "miner = miner[[\"addID\", \"type\"]].set_index(\"addID\")\n",
    "\n",
    "# setting multitype node\n",
    "labeldf = pd.concat([add_label, pd.get_dummies(add_label.type).rename(columns={'miner':'miner_label'}), \n",
    "                  pd.get_dummies(miner.type).rename(columns={'miner':'miner_block'}), \n",
    "                  pd.get_dummies(genesis.type)], axis=1)\n",
    "\n",
    "labeldf['miner'] = np.where(((labeldf.miner_label == 1) | (labeldf.miner_block == 1)), 1, np.nan)\n",
    "\n",
    "column_name = ['miner', 'genesis', 'Exchange', 'Gambling', 'ICO', 'Token Contract', 'nametag']\n",
    "labeldf = labeldf[column_name].replace(0, np.nan)\n",
    "\n",
    "node_label_dic = {k: v.dropna().to_dict() for k,v in labeldf.T.items()} # drop nan"
   ]
  },
  {
   "cell_type": "code",
   "execution_count": 3,
   "metadata": {},
   "outputs": [
    {
     "data": {
      "text/plain": [
       "(12488, {'Exchange': 1.0, 'nametag': 'Tidex 1'})"
      ]
     },
     "execution_count": 3,
     "metadata": {},
     "output_type": "execute_result"
    }
   ],
   "source": [
    "len(node_label_dic), node_label_dic[756630]"
   ]
  },
  {
   "cell_type": "code",
   "execution_count": 4,
   "metadata": {},
   "outputs": [],
   "source": [
    "# transaction=pd.read_csv(\"transaction_data.csv\")\n",
    "transaction=pd.read_csv(\"../preprocessed/transaction_data_except_txfee.csv\")\n",
    "# timestamp to datetime \n",
    "transaction[\"txdatetime\"] = transaction[\"txtime\"].map(lambda x:datetime.fromtimestamp(x, timezone.utc))\n",
    "\n",
    "# delete self transaction \n",
    "transaction = transaction[transaction['in']!=transaction['out']] # excluding self transaction "
   ]
  },
  {
   "cell_type": "code",
   "execution_count": 5,
   "metadata": {},
   "outputs": [
    {
     "name": "stderr",
     "output_type": "stream",
     "text": [
      "100%|██████████| 17/17 [01:08<00:00,  4.03s/it]\n"
     ]
    }
   ],
   "source": [
    "monthly_network = []\n",
    "date_idx = pd.date_range(start='08/01/2015', end='12/01/2016', freq='MS', tz='UTC') \n",
    "\n",
    "for time_from in tqdm(date_idx):    \n",
    "    # aggregate with the time interval\n",
    "    time_until = time_from + relativedelta(months=1)\n",
    "    tx_bytime = transaction[(transaction.txdatetime >= time_from) & (transaction.txdatetime < time_until)] \n",
    "    real_tx = tx_bytime.groupby([\"in\", \"out\"], as_index=False).agg({\"value\": np.sum})\n",
    "    real_tx = real_tx[real_tx[\"value\"] != 0]\n",
    "    real_tx[\"log_value\"] = real_tx[\"value\"].apply(lambda x: np.log10(x))\n",
    "    \n",
    "    tx_G_bytime = nx.from_pandas_edgelist(real_tx, source = \"out\", target = \"in\", edge_attr=[\"value\"], create_using=nx.DiGraph())\n",
    "\n",
    "    nx.set_node_attributes(tx_G_bytime, node_label_dic)\n",
    "\n",
    "    # save_network \n",
    "    month = time_from.strftime('%Y%m')\n",
    "    nx.write_gexf(tx_G_bytime, f'/data01/storage_damini/Ethereum_network/monthly_network_{month}.gexf')"
   ]
  },
  {
   "cell_type": "code",
   "execution_count": 8,
   "metadata": {},
   "outputs": [],
   "source": [
    "G = nx.read_gexf('/data01/storage_damini/Ethereum_network/monthly_network_201508.gexf')"
   ]
  },
  {
   "cell_type": "code",
   "execution_count": 10,
   "metadata": {},
   "outputs": [
    {
     "data": {
      "text/plain": [
       "{'11379': 1.0,\n",
       " '11668': 1.0,\n",
       " '11266': 1.0,\n",
       " '11618': 1.0,\n",
       " '14116': 1.0,\n",
       " '11513': 1.0}"
      ]
     },
     "execution_count": 10,
     "metadata": {},
     "output_type": "execute_result"
    }
   ],
   "source": [
    "nx.get_node_attributes(G, 'Exchange')"
   ]
  },
  {
   "cell_type": "code",
   "execution_count": null,
   "metadata": {},
   "outputs": [],
   "source": []
  }
 ],
 "metadata": {
  "kernelspec": {
   "display_name": "base",
   "language": "python",
   "name": "python3"
  },
  "language_info": {
   "codemirror_mode": {
    "name": "ipython",
    "version": 3
   },
   "file_extension": ".py",
   "mimetype": "text/x-python",
   "name": "python",
   "nbconvert_exporter": "python",
   "pygments_lexer": "ipython3",
   "version": "3.8.3"
  }
 },
 "nbformat": 4,
 "nbformat_minor": 2
}
